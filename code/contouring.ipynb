{
 "cells": [
  {
   "cell_type": "code",
   "execution_count": 2,
   "metadata": {},
   "outputs": [],
   "source": [
    "import cv2\n",
    "import numpy as np\n",
    "import matplotlib.pyplot as plt\n",
    "import math\n",
    "import os\n",
    "import shutil"
   ]
  },
  {
   "cell_type": "code",
   "execution_count": 3,
   "metadata": {},
   "outputs": [],
   "source": [
    "# Read in an image from path and converting it to grayscale\n",
    "def makeGray(path):\n",
    "    img = cv2.imread(path)\n",
    "    # img = cv2.resize(img,(128,128))\n",
    "    gray = cv2.cvtColor(img,cv2.COLOR_BGR2GRAY)\n",
    "    ret,gray = cv2.threshold(gray,140,250,0)\n",
    "    # plt.imshow(gray)\n",
    "\n",
    "    return img, gray"
   ]
  },
  {
   "cell_type": "code",
   "execution_count": 4,
   "metadata": {},
   "outputs": [],
   "source": [
    "# This function will create a circular mask given the image's heigh and width\n",
    "# this is mainly to ignore the outer walls of the brain and try to read the inner\n",
    "# portions\n",
    "def create_circular_mask(h, w, center=None, radius=None):\n",
    "\n",
    "    if center is None: # use the middle of the image\n",
    "        center = (int(w/2), int(h/2))\n",
    "    if radius is None: # use the smallest distance between the center and image walls\n",
    "        radius = min(center[0], center[1], w-center[0], h-center[1])\n",
    "\n",
    "    Y, X = np.ogrid[:h, :w]\n",
    "    dist_from_center = np.sqrt((X - center[0])**2 + (Y-center[1])**2)\n",
    "\n",
    "    mask = dist_from_center <= radius\n",
    "    return mask"
   ]
  },
  {
   "cell_type": "code",
   "execution_count": 5,
   "metadata": {},
   "outputs": [],
   "source": [
    "# Finally, we'll draw a contour over the whitest region of the brain\n",
    "def drawCountr(img):\n",
    "    contours, hier = cv2.findContours(gray,cv2.RETR_LIST,cv2.CHAIN_APPROX_SIMPLE)\n",
    "    for cnt in contours:\n",
    "        if 50<cv2.contourArea(cnt)<5000:\n",
    "                    cv2.drawContours(img,[cnt],0,(255,0,0),1)"
   ]
  },
  {
   "cell_type": "code",
   "execution_count": 6,
   "metadata": {},
   "outputs": [],
   "source": [
    "# load in the predicted raw images\n",
    "predicted = os.listdir(path='../predicted/raw/')"
   ]
  },
  {
   "cell_type": "code",
   "execution_count": 7,
   "metadata": {},
   "outputs": [],
   "source": [
    "# Creating the new folder where we'll save the images which will\n",
    "# have a hightlighted region\n",
    "if os.path.isdir('../predicted/drawn/'):\n",
    "    shutil.rmtree('../predicted/drawn/')\n",
    "\n",
    "os.mkdir('../predicted/drawn/')"
   ]
  },
  {
   "cell_type": "code",
   "execution_count": 8,
   "metadata": {},
   "outputs": [
    {
     "name": "stdout",
     "output_type": "stream",
     "text": [
      "Created file @ \"../predicted/drawn/final0.jpg\"\n",
      "Created file @ \"../predicted/drawn/final1.jpg\"\n",
      "Created file @ \"../predicted/drawn/final2.jpg\"\n",
      "Created file @ \"../predicted/drawn/final3.jpg\"\n",
      "Created file @ \"../predicted/drawn/final4.jpg\"\n",
      "Created file @ \"../predicted/drawn/final5.jpg\"\n",
      "Created file @ \"../predicted/drawn/final6.jpg\"\n",
      "Created file @ \"../predicted/drawn/final7.jpg\"\n",
      "Created file @ \"../predicted/drawn/final8.jpg\"\n",
      "Created file @ \"../predicted/drawn/final9.jpg\"\n",
      "Created file @ \"../predicted/drawn/final10.jpg\"\n",
      "Created file @ \"../predicted/drawn/final11.jpg\"\n",
      "Created file @ \"../predicted/drawn/final12.jpg\"\n",
      "Created file @ \"../predicted/drawn/final13.jpg\"\n"
     ]
    }
   ],
   "source": [
    "# Let's now iterate thrhough all images and apply all functions\n",
    "for count, i in enumerate(predicted):\n",
    "    img, gray = makeGray('../predicted/raw/' + i)\n",
    "\n",
    "    h, w = img.shape[:2]\n",
    "    circle = create_circular_mask(h, w, radius=50)\n",
    "    gray = gray.copy()\n",
    "    gray[~circle] = 0\n",
    "\n",
    "    drawCountr(img)\n",
    "\n",
    "    # plt.imshow(img)\n",
    "    plt.imsave('../predicted/drawn/final{}.jpg'.format(count), img)\n",
    "    print('Created file @ \"../predicted/drawn/final{}.jpg\"'.format(count))"
   ]
  },
  {
   "cell_type": "code",
   "execution_count": null,
   "metadata": {},
   "outputs": [],
   "source": []
  }
 ],
 "metadata": {
  "interpreter": {
   "hash": "40d3a090f54c6569ab1632332b64b2c03c39dcf918b08424e98f38b5ae0af88f"
  },
  "kernelspec": {
   "display_name": "Python 3.8.3 64-bit ('base': conda)",
   "language": "python",
   "name": "python3"
  },
  "language_info": {
   "codemirror_mode": {
    "name": "ipython",
    "version": 3
   },
   "file_extension": ".py",
   "mimetype": "text/x-python",
   "name": "python",
   "nbconvert_exporter": "python",
   "pygments_lexer": "ipython3",
   "version": "3.8.3"
  },
  "orig_nbformat": 4
 },
 "nbformat": 4,
 "nbformat_minor": 2
}
